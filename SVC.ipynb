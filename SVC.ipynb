{
 "cells": [
  {
   "cell_type": "code",
   "execution_count": 2,
   "metadata": {},
   "outputs": [],
   "source": [
    "# Dependencies\n",
    "\n",
    "import pandas as pd\n",
    "import numpy as np\n",
    "\n",
    "# Data processing\n",
    "\n",
    "from sklearn.model_selection import train_test_split\n",
    "from sklearn.preprocessing import normalize"
   ]
  },
  {
   "cell_type": "code",
   "execution_count": 3,
   "metadata": {},
   "outputs": [
    {
     "data": {
      "text/plain": [
       "((18816, 15), (6273, 15), (18816,), (6273,))"
      ]
     },
     "execution_count": 3,
     "metadata": {},
     "output_type": "execute_result"
    }
   ],
   "source": [
    "df = pd.read_csv(r\"C:\\Users\\suhan\\Coding_Projects\\Machine_Learning\\Cyberbullying_Classification\\Data\\finalData.csv\", index_col = False)\n",
    "df.index\n",
    "X_train, X_test, y_train, y_test = train_test_split(df.drop('Labels',axis=1), df['Labels'])\n",
    "\n",
    "# Converting dfs to numpy arrays\n",
    "\n",
    "X_train = normalize((X_train))\n",
    "X_test = normalize((X_test))\n",
    "\n",
    "X_train.shape, X_test.shape, y_train.shape, y_test.shape"
   ]
  },
  {
   "cell_type": "code",
   "execution_count": 5,
   "metadata": {},
   "outputs": [
    {
     "name": "stdout",
     "output_type": "stream",
     "text": [
      "\tClassification Report for SVC on Train\n",
      "\n",
      "               precision    recall  f1-score   support\n",
      "\n",
      "           0       0.55      0.97      0.71      5862\n",
      "           1       0.91      0.56      0.69      4306\n",
      "           2       0.57      0.01      0.02      2041\n",
      "           3       0.99      0.94      0.96      2399\n",
      "           4       1.00      0.85      0.92      4208\n",
      "\n",
      "    accuracy                           0.74     18816\n",
      "   macro avg       0.80      0.67      0.66     18816\n",
      "weighted avg       0.79      0.74      0.71     18816\n",
      "\n",
      "\n",
      "\tClassification Report for SVC on Test\n",
      "\n",
      "               precision    recall  f1-score   support\n",
      "\n",
      "           0       0.55      0.97      0.70      1957\n",
      "           1       0.90      0.52      0.66      1410\n",
      "           2       0.46      0.01      0.02       675\n",
      "           3       0.99      0.94      0.96       802\n",
      "           4       1.00      0.85      0.92      1429\n",
      "\n",
      "    accuracy                           0.74      6273\n",
      "   macro avg       0.78      0.66      0.65      6273\n",
      "weighted avg       0.78      0.74      0.70      6273\n",
      "\n"
     ]
    }
   ],
   "source": [
    "from sklearn import svm\n",
    "from sklearn.metrics import classification_report\n",
    "\n",
    "classifier = svm.SVC()\n",
    "classifier.fit(X_train,y_train)\n",
    "\n",
    "y_pred_train = classifier.predict(X_train)\n",
    "y_pred_test = classifier.predict(X_test)\n",
    "\n",
    "print('\\tClassification Report for SVC on Train\\n\\n', classification_report(y_train, y_pred_train))\n",
    "print('\\n\\tClassification Report for SVC on Test\\n\\n', classification_report(y_test, y_pred_test))"
   ]
  }
 ],
 "metadata": {
  "kernelspec": {
   "display_name": "Python 3",
   "language": "python",
   "name": "python3"
  },
  "language_info": {
   "codemirror_mode": {
    "name": "ipython",
    "version": 3
   },
   "file_extension": ".py",
   "mimetype": "text/x-python",
   "name": "python",
   "nbconvert_exporter": "python",
   "pygments_lexer": "ipython3",
   "version": "3.12.5"
  }
 },
 "nbformat": 4,
 "nbformat_minor": 2
}
