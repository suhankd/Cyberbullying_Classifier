{
  "cells": [
    {
      "cell_type": "code",
      "execution_count": 7,
      "metadata": {
        "colab": {
          "base_uri": "https://localhost:8080/"
        },
        "id": "KUF7rhG6EhA_",
        "outputId": "228a7ca9-b70c-4dfb-9c57-1545d2ac7fb3"
      },
      "outputs": [
        {
          "name": "stdout",
          "output_type": "stream",
          "text": [
            "Defaulting to user installation because normal site-packages is not writeable\n",
            "Requirement already satisfied: tweet-preprocessor in c:\\users\\suhan\\appdata\\local\\packages\\pythonsoftwarefoundation.python.3.12_qbz5n2kfra8p0\\localcache\\local-packages\\python312\\site-packages (0.6.0)\n",
            "Note: you may need to restart the kernel to use updated packages.\n"
          ]
        },
        {
          "name": "stderr",
          "output_type": "stream",
          "text": [
            "\n",
            "[notice] A new release of pip is available: 24.1.2 -> 24.2\n",
            "[notice] To update, run: C:\\Users\\suhan\\AppData\\Local\\Microsoft\\WindowsApps\\PythonSoftwareFoundation.Python.3.12_qbz5n2kfra8p0\\python.exe -m pip install --upgrade pip\n",
            "[nltk_data] Downloading package stopwords to\n",
            "[nltk_data]     C:\\Users\\suhan\\AppData\\Roaming\\nltk_data...\n",
            "[nltk_data]   Package stopwords is already up-to-date!\n"
          ]
        }
      ],
      "source": [
        "# Importing Dependencies\n",
        "\n",
        "# Utility\n",
        "import pandas as pd\n",
        "import numpy as np\n",
        "\n",
        "# Language Processing\n",
        "import nltk\n",
        "from nltk.corpus import stopwords\n",
        "from string import punctuation\n",
        "from nltk.stem import WordNetLemmatizer\n",
        "from nltk.tokenize import word_tokenize\n",
        "%pip install tweet-preprocessor\n",
        "import preprocessor as p\n",
        "nltk.download('stopwords')\n",
        "\n",
        "# Word vectorization\n",
        "from sklearn.feature_extraction.text import TfidfVectorizer"
      ]
    },
    {
      "cell_type": "code",
      "execution_count": 8,
      "metadata": {
        "id": "a5KTU33UEpMP"
      },
      "outputs": [
        {
          "data": {
            "text/html": [
              "<div>\n",
              "<style scoped>\n",
              "    .dataframe tbody tr th:only-of-type {\n",
              "        vertical-align: middle;\n",
              "    }\n",
              "\n",
              "    .dataframe tbody tr th {\n",
              "        vertical-align: top;\n",
              "    }\n",
              "\n",
              "    .dataframe thead th {\n",
              "        text-align: right;\n",
              "    }\n",
              "</style>\n",
              "<table border=\"1\" class=\"dataframe\">\n",
              "  <thead>\n",
              "    <tr style=\"text-align: right;\">\n",
              "      <th></th>\n",
              "      <th>tweet_text</th>\n",
              "      <th>cyberbullying_type</th>\n",
              "    </tr>\n",
              "  </thead>\n",
              "  <tbody>\n",
              "    <tr>\n",
              "      <th>count</th>\n",
              "      <td>25089</td>\n",
              "      <td>25089</td>\n",
              "    </tr>\n",
              "    <tr>\n",
              "      <th>unique</th>\n",
              "      <td>25089</td>\n",
              "      <td>5</td>\n",
              "    </tr>\n",
              "    <tr>\n",
              "      <th>top</th>\n",
              "      <td>In other words #katandandre, your food was cra...</td>\n",
              "      <td>not_cyberbullying</td>\n",
              "    </tr>\n",
              "    <tr>\n",
              "      <th>freq</th>\n",
              "      <td>1</td>\n",
              "      <td>7819</td>\n",
              "    </tr>\n",
              "  </tbody>\n",
              "</table>\n",
              "</div>"
            ],
            "text/plain": [
              "                                               tweet_text cyberbullying_type\n",
              "count                                               25089              25089\n",
              "unique                                              25089                  5\n",
              "top     In other words #katandandre, your food was cra...  not_cyberbullying\n",
              "freq                                                    1               7819"
            ]
          },
          "execution_count": 8,
          "metadata": {},
          "output_type": "execute_result"
        }
      ],
      "source": [
        "df = pd.read_csv(\"Data/rawData.csv\")\n",
        "\n",
        "df.drop_duplicates('tweet_text',inplace = True, ignore_index = True)\n",
        "df = df[df[\"cyberbullying_type\"] != \"other_cyberbullying\"] #In order to remove ambiguity\n",
        "\n",
        "df = df[df['tweet_text'].str.len() >= 10]\n",
        "df = df[df['tweet_text'].str.len() <= 140]\n",
        "\n",
        "df.describe()"
      ]
    },
    {
      "cell_type": "code",
      "execution_count": 9,
      "metadata": {
        "id": "3nzA6XQ-HRvn"
      },
      "outputs": [],
      "source": [
        "# A set of useless words to remove\n",
        "stopwords_list = stopwords.words('english')\n",
        "additional_stopwords = ['rt', 'mkr', 'didn', 'bc', 'n', 'm', 'im', 'll', 'y', 've', 'u', 'ur', 'don', 't', 's']   # twitter lingo\n",
        "stopwords_list.extend(additional_stopwords)\n",
        "\n",
        "# A set of functions to help clean up the tweets.\n",
        "\n",
        "def remove_punctuation(tweet):\n",
        "    for mark in punctuation:\n",
        "        tweet = tweet.replace(mark, '')\n",
        "    return tweet\n",
        "\n",
        "def tokenization(tweet):\n",
        "    return word_tokenize(tweet)\n",
        "\n",
        "lemmatizer = WordNetLemmatizer()\n",
        "def lemmatize(tweet):\n",
        "    return [lemmatizer.lemmatize(word) for word in tweet]\n",
        "\n",
        "def remove_stopwords(tweet):\n",
        "  res = []\n",
        "  for word in tweet:\n",
        "    if word not in stopwords_list:\n",
        "      res.append(word)\n",
        "\n",
        "  return res\n",
        "\n",
        "def remove_stopwords(tweet):\n",
        "    return [word for word in tweet if word not in stopwords_list]\n",
        "\n",
        "def processing(tweet):\n",
        "  tweet = p.clean(tweet)\n",
        "  tweet = remove_punctuation(tweet)\n",
        "  tweet = tweet.lower()\n",
        "  tokens = tokenization(tweet)\n",
        "  tokens = remove_stopwords(tokens)\n",
        "  tokens = lemmatize(tokens)\n",
        "  cleaned_tweet = ' '.join(tokens)\n",
        "  return cleaned_tweet\n",
        "\n",
        "df['cleaned_tweets'] = df['tweet_text'].apply(processing)\n",
        "encoding = {'not_cyberbullying':0, 'gender':1, 'religion':2, 'age':3, 'ethnicity':4} # Makes classification easier\n",
        "df['cyberbullying_type'] = df['cyberbullying_type'].map(encoding)\n",
        "df.to_csv('Data/processedData.csv', index=False)\n"
      ]
    },
    {
      "cell_type": "code",
      "execution_count": 10,
      "metadata": {},
      "outputs": [],
      "source": [
        "vectorizer = TfidfVectorizer(max_features=16)\n",
        "\n",
        "tfidf_matrix = vectorizer.fit_transform(df['cleaned_tweets'])\n",
        "tfidf_df = pd.DataFrame(tfidf_matrix.toarray())\n",
        "tfidf_df['Labels'] = df['cyberbullying_type'].values\n",
        "\n",
        "tfidf_df.drop(tfidf_df.columns[0], axis=1, inplace=True)"
      ]
    },
    {
      "cell_type": "code",
      "execution_count": 13,
      "metadata": {
        "id": "tlLnz5F_22Jt"
      },
      "outputs": [],
      "source": [
        "from sklearn.utils import shuffle\n",
        "from sklearn.model_selection import train_test_split\n",
        "\n",
        "tfidf_df = shuffle(tfidf_df)\n",
        "tfidf_df.to_csv(\"Data\\\\finalData.csv\",index=False)"
      ]
    }
  ],
  "metadata": {
    "colab": {
      "provenance": []
    },
    "kernelspec": {
      "display_name": "Python 3",
      "name": "python3"
    },
    "language_info": {
      "codemirror_mode": {
        "name": "ipython",
        "version": 3
      },
      "file_extension": ".py",
      "mimetype": "text/x-python",
      "name": "python",
      "nbconvert_exporter": "python",
      "pygments_lexer": "ipython3",
      "version": "3.12.5"
    }
  },
  "nbformat": 4,
  "nbformat_minor": 0
}
